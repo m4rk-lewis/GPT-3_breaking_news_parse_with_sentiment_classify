{
  "nbformat": 4,
  "nbformat_minor": 0,
  "metadata": {
    "colab": {
      "provenance": []
    },
    "kernelspec": {
      "name": "python3",
      "display_name": "Python 3"
    },
    "language_info": {
      "name": "python"
    }
  },
  "cells": [
    {
      "cell_type": "code",
      "execution_count": null,
      "metadata": {
        "id": "nH2D1SpjBXj9"
      },
      "outputs": [],
      "source": [
        "# Step 1: Install required packages\n",
        "!pip install feedparser beautifulsoup4 openai"
      ]
    },
    {
      "cell_type": "code",
      "source": [
        "# Step 2: Download and parse the RSS feed\n",
        "import feedparser\n",
        "def get_feed(url):\n",
        "    return feedparser.parse(url)"
      ],
      "metadata": {
        "id": "Pc3S-XJVBaIb"
      },
      "execution_count": 113,
      "outputs": []
    },
    {
      "cell_type": "code",
      "source": [
        "# Step 3: Extract HTML from the description\n",
        "from bs4 import BeautifulSoup\n",
        "\n",
        "def extract_text(html):\n",
        "    soup = BeautifulSoup(html, \"html.parser\")\n",
        "    return soup.get_text()"
      ],
      "metadata": {
        "id": "W5XIA-eyBfJU"
      },
      "execution_count": 114,
      "outputs": []
    },
    {
      "cell_type": "code",
      "source": [
        "import openai\n",
        "openai.api_key = \"insert-openAI-API-here\"\n",
        "\n",
        "\n",
        "# Step 4: Summarize using GPT-3\n",
        "def summarize_text(text):\n",
        "    response = openai.Completion.create(\n",
        "        engine=\"text-davinci-003\", \n",
        "        prompt=f\"remove all unnecesary whitespace and formatting, then provide a short summary of less than 30 words of the following text: {text}\",\n",
        "        temperature=0.7,\n",
        "        max_tokens=50,\n",
        "        top_p=1,\n",
        "        frequency_penalty=0.5,\n",
        "        presence_penalty=0,\n",
        "    )\n",
        "    return response.choices[0].text.strip()\n",
        "\n",
        "# Step 5: Sentiment classification\n",
        "def sentiment_classification(text):\n",
        "    response = openai.Completion.create(\n",
        "        engine=\"text-davinci-003\", \n",
        "        prompt=f\"please classify the sentiment of this breaking financial news article as a numerical float, with a range of -1 to 1 with 0.1 granularity, where -1 is maximum bearishness and 1 is maximum bullishness in relation to equities: {text}\",\n",
        "        temperature=0.7,\n",
        "        max_tokens=50,\n",
        "        top_p=1,\n",
        "        frequency_penalty=0.5,\n",
        "        presence_penalty=0,\n",
        "    )\n",
        "    return response.choices[0].text.strip()"
      ],
      "metadata": {
        "id": "r-NlATswBhpj"
      },
      "execution_count": 119,
      "outputs": []
    },
    {
      "cell_type": "code",
      "source": [
        "# Step 6: Store the summarized information in a SQLite database\n",
        "import sqlite3\n",
        "\n",
        "def create_db():\n",
        "    conn = sqlite3.connect(\":memory:\")\n",
        "    cursor = conn.cursor()\n",
        "    cursor.execute('''CREATE TABLE news (title TEXT, summary TEXT, sentiment TEXT)''')\n",
        "    return conn, cursor\n",
        "\n",
        "def insert_news(cursor, title, summary, sentiment):\n",
        "    cursor.execute(\"INSERT INTO news (title, summary, sentiment) VALUES (?, ?, ?)\", (title, summary, sentiment))\n"
      ],
      "metadata": {
        "id": "4JbNpYxYBoo0"
      },
      "execution_count": 116,
      "outputs": []
    },
    {
      "cell_type": "code",
      "source": [
        "# Step 7: Continuously monitor the RSS feed for updates\n",
        "import time\n",
        "\n",
        "def monitor_feed(url, conn, cursor, interval=60):\n",
        "    seen_titles = set()\n",
        "    while True:\n",
        "        feed = get_feed(url)\n",
        "        # print(feed.entries[0])\n",
        "        for entry in feed.entries:\n",
        "            title = entry.title\n",
        "            if title not in seen_titles:\n",
        "                if entry.category == \"News\" or entry.category ==\"Central Banks\" or entry.category ==\"Technical Analysis\":\n",
        "                    seen_titles.add(title)\n",
        "                    category = extract_text(entry.category)\n",
        "                    published = extract_text(entry.published)\n",
        "                    description = extract_text(entry.description)\n",
        "                    summary = summarize_text(description[:4000])\n",
        "                    sentiment = sentiment_classification(description[:4000])  \n",
        "                    insert_news(cursor, title, summary, sentiment)  \n",
        "                    print(f\"{published} >>> {category} >>> {title} >>> Summary: {summary} >>> Sentiment: {sentiment}\")\n",
        "        time.sleep(interval)"
      ],
      "metadata": {
        "id": "BsdXg5TLBtdT"
      },
      "execution_count": 117,
      "outputs": []
    },
    {
      "cell_type": "code",
      "source": [
        "'''\n",
        "# This code will download the RSS feed and process new entries every 60 seconds. \n",
        "Adjust the interval parameter in monitor_feed() to control how often the feed is checked.\n",
        "'''\n",
        "if __name__ == \"__main__\":\n",
        "    url = \"https://www.forexlive.com/feed\"\n",
        "    conn, cursor = create_db()\n",
        "    monitor_feed(url, conn, cursor)"
      ],
      "metadata": {
        "colab": {
          "base_uri": "https://localhost:8080/",
          "height": 724
        },
        "id": "BtUcnCZRBxoU",
        "outputId": "8c97981f-f481-44e9-8c73-827afea08ab5"
      },
      "execution_count": 121,
      "outputs": [
        {
          "output_type": "stream",
          "name": "stdout",
          "text": [
            "Tue, 18 Apr 2023 01:34:36 GMT >>> Central Banks >>> RBA minutes show strong case to pause and reassess need for tightening at future meetings >>> Summary: Board considered rate hike in April, then decided to pause; assessing inflation, jobs, consumer spending and business conditions; inflation too high, labour market loosened but still tight; bank stress causing global headwind. >>> Sentiment: 0.3\n",
            "Tue, 18 Apr 2023 01:33:17 GMT >>> News >>> Major currencies little changed so far after dollar rebound yesterday >>> Summary: USD held its ground before falling, leading to a rebound; major currencies are little changed in Asia Pacific trading with narrow ranges; USD/JPY is trading up to one-month highs, EUR/USD slipping back under moving averages. >>> Sentiment: 0.0\n",
            "Tue, 18 Apr 2023 01:15:16 GMT >>> Central Banks >>> PBOC sets USD/ CNY reference rate for today at 6.8814 (vs. estimate at 6.8828) >>> Summary: PBOC sets reference rate for USD/CNY, no restrictions on USD/CNH; signal from PBOC if rate differs from expectation; previous close 6.8817; net drain of 12 billion yuan on the day. >>> Sentiment: 0.0\n",
            "Tue, 18 Apr 2023 00:52:39 GMT >>> News >>> \"ChatGPT outperforms traditional sentiment analysis methods\" to forecast stock prices >>> Summary: ChatGPT can be used to predict stock market returns, outperforming traditional sentiment analysis methods and showing more complex models are needed. >>> Sentiment: 0.6\n",
            "Tue, 18 Apr 2023 00:41:45 GMT >>> Central Banks >>> BOJ is considering a 2025 CPI forecast that is still under target >>> Summary: Bank of Japan considering price projections for 2025 fiscal year, new Governor Ueda's first policy meeting, seen as a test to markets. >>> Sentiment: 0.2\n",
            "Tue, 18 Apr 2023 00:23:41 GMT >>> Central Banks >>> PBOC is expected to set the USD/CNY reference rate at 6.8828 – Reuters estimate >>> Summary: The People's Bank of China (PBOC) sets a midpoint for the yuan daily against a basket of currencies, allowing it to fluctuate within a 2% band. Intervention is used to stabilize its value. Move towards more liberalization >>> Sentiment: 0.0\n",
            "Tue, 18 Apr 2023 00:16:50 GMT >>> News >>> China Q1 GDP and March activity data due at 0200 GMT (10pm US Eastern time) >>> Summary: China to release GDP, activity data; expect GDP growth at 3.8%, loan growth to support infrastructure investment, retail sales to continue recovery. >>> Sentiment: 0.6\n",
            "Mon, 17 Apr 2023 23:57:13 GMT >>> News >>> Australian weekly Consumer Confidence comes in at its 7th lowest since March of 2020 >>> Summary: ANZ-Roy Morgan Australian Consumer Confidence fell to its 7th weakest since Mar 2020, despite positive factors. Inflation expectations rose 0.5ppt but 4 week average remained unchanged. >>> Sentiment: 0.2\n",
            "Mon, 17 Apr 2023 23:29:45 GMT >>> Central Banks >>> Bank of Japan Governor Ueda will speak in the Japanese parliament Tuesday, 18 April 2023 >>> Summary: Bank of Japan Governor Ueda appears before the Diet Financial Committee, reiterating his dovish comments from last week. >>> Sentiment: 0.0\n",
            "Mon, 17 Apr 2023 23:06:44 GMT >>> News >>> JP Morgan forecasts Brent crude oil to US$94 a barrel in Q4 2023 >>> Summary: It discusses how strong labour and inflation data stifled hopes of a Fed rate pause, leading to weak demand and low profit margins, but OPEC's upcoming cuts could lead to a new bull market in oil. >>> Sentiment: 0.2\n",
            "Mon, 17 Apr 2023 22:24:43 GMT >>> News >>> Deutsche Bank see a near-term S&P 500 rally above 4250 >>> Summary: Bankim Chadha expects a near-term S&P 500 rally due to strong earnings and a weakening US dollar, but warns of risk of economic crash. >>> Sentiment: 0.5\n",
            "Mon, 17 Apr 2023 21:55:07 GMT >>> News >>> Morgan Stanley on US Stocks -  \"we are far from out of the woods with this bear market\" >>> Summary: Analysis suggests Fed rate hikes could cause further surprises, earnings estimates are down 15%, and market breadth is at record lows, a sign of further earnings weakness. >>> Sentiment: -0.6\n",
            "Mon, 17 Apr 2023 21:44:38 GMT >>> News >>> JP Morgan Kolanovic says even a mild recession could cause US stocks to fall by 15% >>> Summary: Marko Kolanovic, JPM's chief global markets strategist, recommends that clients keep equity allocations underweight and overweight Japanese stocks; he believes a mild recession could warrant retesting of previous lows and a 5% or less upside in equities. >>> Sentiment: -0.5\n",
            "Mon, 17 Apr 2023 21:16:01 GMT >>> Central Banks >>> ICYMI - BIS' head Carstens says interest rates may need to be higher, for longer >>> Summary: BIS GM Carstens says central banks must keep rates high to avoid long-term inflation and address the debt, instability caused by GFC and pandemic. >>> Sentiment: 0.0\n",
            "Mon, 17 Apr 2023 20:59:28 GMT >>> News >>> Forexlive Americas FX news wrap 17 Apr: Empire manufacturing index strong. USD rallies. >>> Summary: 2% last monthUS building permits and housing starts at 8:30 AM. Estimate 1.8M versus 1.7M last monthUS industrial production at 9:15 AM. Estimate 0.5% versus -0.5% >>> Sentiment: 7% last monthUS retail sales at 8:30 AM. Estimate 0.7% versus 4.6% last month0.8\n",
            "Mon, 17 Apr 2023 20:55:02 GMT >>> Central Banks >>> CIBC targeting USD/JPY down to 123 by end of Q3 >>> Summary: CIBC Research anticipates JPY gains due to BoJ easing yield curve distortions and domestic life companies increasing domestic bond holdings. BoJ surprise adjustments may cause market volatility. >>> Sentiment: 0.9\n",
            "Mon, 17 Apr 2023 20:15:39 GMT >>> Central Banks >>> Economic calendar in Asia 18 April 2023 - RBA minutes, China Q1 GDP & March economic data >>> Summary: RBA pauses rate hikes, awaits data to assess effects; PBOC suggests slower economic recovery, eyes on Q1 GDP & March data. >>> Sentiment: 0.2\n",
            "Mon, 17 Apr 2023 20:14:33 GMT >>> News >>> Trade ideas thread - Tuesday, 18 April 2023 >>> Summary: Share and discuss ForexLive traders' charts, technical analysis, trade ideas, thoughts, and views. >>> Sentiment: 0.0\n",
            "Mon, 17 Apr 2023 20:07:22 GMT >>> News >>> US stocks rally into the close and end the day near the highs >>> Summary: US stock indices rally, closing near day's highs with Dow up 100.82 points, S&P up 13.69 points, and Russell 2000 up 21.68 points. >>> Sentiment: 0.7\n",
            "Mon, 17 Apr 2023 19:41:59 GMT >>> Technical Analysis >>> EURUSD rebounds into the close >>> Summary: EURUSD is seeing modest upside as stocks rebound, traders watching 200 hour MA for key barometer, downside targeted at 1.0894-1.08514. >>> Sentiment: 0.2\n",
            "Mon, 17 Apr 2023 18:50:10 GMT >>> News >>> WTI crude oil settle at $80.83 >>> Summary: Price of WTI crude oil futures down 2.05%, reaching low of $80.47 and testing 200 day moving average. >>> Sentiment: -0.7\n",
            "Mon, 17 Apr 2023 18:44:43 GMT >>> Technical Analysis >>> US a two year yield pushes 4.20% for the first time since March 22 >>> Summary: 2-year yield trades near highs; yields cycle high since Fed tightening at 5.085%. Market running ahead of Fed, move above 4.25% needed to boost technicals. >>> Sentiment: 0.7\n",
            "Mon, 17 Apr 2023 17:52:04 GMT >>> Technical Analysis >>> Gold market dynamics: The battle between buyers and sellers is on. >>> Summary: Gold market experiences fluctuations with double bottom at $1981.90, technical battle between buyers and sellers continues. >>> Sentiment: 0.3\n",
            "Mon, 17 Apr 2023 17:29:40 GMT >>> Central Banks >>> Feds Barkin: Wants further evidence that inflation is settling back to target >>> Summary: Fed's Barkin wants more evidence of inflation settling back to target; economy operating well, rates may rise in May meeting. >>> Sentiment: 0.2\n"
          ]
        },
        {
          "output_type": "error",
          "ename": "KeyboardInterrupt",
          "evalue": "ignored",
          "traceback": [
            "\u001b[0;31m---------------------------------------------------------------------------\u001b[0m",
            "\u001b[0;31mKeyboardInterrupt\u001b[0m                         Traceback (most recent call last)",
            "\u001b[0;32m<ipython-input-121-95e451f0c590>\u001b[0m in \u001b[0;36m<cell line: 5>\u001b[0;34m()\u001b[0m\n\u001b[1;32m      6\u001b[0m     \u001b[0murl\u001b[0m \u001b[0;34m=\u001b[0m \u001b[0;34m\"https://www.forexlive.com/feed\"\u001b[0m\u001b[0;34m\u001b[0m\u001b[0;34m\u001b[0m\u001b[0m\n\u001b[1;32m      7\u001b[0m     \u001b[0mconn\u001b[0m\u001b[0;34m,\u001b[0m \u001b[0mcursor\u001b[0m \u001b[0;34m=\u001b[0m \u001b[0mcreate_db\u001b[0m\u001b[0;34m(\u001b[0m\u001b[0;34m)\u001b[0m\u001b[0;34m\u001b[0m\u001b[0;34m\u001b[0m\u001b[0m\n\u001b[0;32m----> 8\u001b[0;31m     \u001b[0mmonitor_feed\u001b[0m\u001b[0;34m(\u001b[0m\u001b[0murl\u001b[0m\u001b[0;34m,\u001b[0m \u001b[0mconn\u001b[0m\u001b[0;34m,\u001b[0m \u001b[0mcursor\u001b[0m\u001b[0;34m)\u001b[0m\u001b[0;34m\u001b[0m\u001b[0;34m\u001b[0m\u001b[0m\n\u001b[0m",
            "\u001b[0;32m<ipython-input-117-0ab993bb4b26>\u001b[0m in \u001b[0;36mmonitor_feed\u001b[0;34m(url, conn, cursor, interval)\u001b[0m\n\u001b[1;32m     19\u001b[0m                     \u001b[0minsert_news\u001b[0m\u001b[0;34m(\u001b[0m\u001b[0mcursor\u001b[0m\u001b[0;34m,\u001b[0m \u001b[0mtitle\u001b[0m\u001b[0;34m,\u001b[0m \u001b[0msummary\u001b[0m\u001b[0;34m,\u001b[0m \u001b[0msentiment\u001b[0m\u001b[0;34m)\u001b[0m\u001b[0;34m\u001b[0m\u001b[0;34m\u001b[0m\u001b[0m\n\u001b[1;32m     20\u001b[0m                     \u001b[0mprint\u001b[0m\u001b[0;34m(\u001b[0m\u001b[0;34mf\"{published} >>> {category} >>> {title} >>> Summary: {summary} >>> Sentiment: {sentiment}\"\u001b[0m\u001b[0;34m)\u001b[0m\u001b[0;34m\u001b[0m\u001b[0;34m\u001b[0m\u001b[0m\n\u001b[0;32m---> 21\u001b[0;31m         \u001b[0mtime\u001b[0m\u001b[0;34m.\u001b[0m\u001b[0msleep\u001b[0m\u001b[0;34m(\u001b[0m\u001b[0minterval\u001b[0m\u001b[0;34m)\u001b[0m\u001b[0;34m\u001b[0m\u001b[0;34m\u001b[0m\u001b[0m\n\u001b[0m",
            "\u001b[0;31mKeyboardInterrupt\u001b[0m: "
          ]
        }
      ]
    }
  ]
}