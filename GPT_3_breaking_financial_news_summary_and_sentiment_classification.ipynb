{
  "nbformat": 4,
  "nbformat_minor": 0,
  "metadata": {
    "colab": {
      "provenance": [],
      "include_colab_link": true
    },
    "kernelspec": {
      "name": "python3",
      "display_name": "Python 3"
    },
    "language_info": {
      "name": "python"
    }
  },
  "cells": [
    {
      "cell_type": "markdown",
      "metadata": {
        "id": "view-in-github",
        "colab_type": "text"
      },
      "source": [
        "<a href=\"https://colab.research.google.com/github/m4rk-lewis/GPT-3_breaking_news_parse_with_sentiment_classify/blob/main/GPT_3_breaking_financial_news_summary_and_sentiment_classification.ipynb\" target=\"_parent\"><img src=\"https://colab.research.google.com/assets/colab-badge.svg\" alt=\"Open In Colab\"/></a>"
      ]
    },
    {
      "cell_type": "code",
      "execution_count": 1,
      "metadata": {
        "id": "nH2D1SpjBXj9"
      },
      "outputs": [],
      "source": [
        "# Step 1: Install required packages\n",
        "!pip install feedparser beautifulsoup4 openai"
      ]
    },
    {
      "cell_type": "code",
      "source": [
        "# Step 2: Download and parse the RSS feed\n",
        "import feedparser\n",
        "def get_feed(url):\n",
        "    return feedparser.parse(url)"
      ],
      "metadata": {
        "id": "Pc3S-XJVBaIb"
      },
      "execution_count": 2,
      "outputs": []
    },
    {
      "cell_type": "code",
      "source": [
        "# Step 3: Extract HTML from the description\n",
        "from bs4 import BeautifulSoup\n",
        "\n",
        "def extract_text(html):\n",
        "    soup = BeautifulSoup(html, \"html.parser\")\n",
        "    return soup.get_text()"
      ],
      "metadata": {
        "id": "W5XIA-eyBfJU"
      },
      "execution_count": 3,
      "outputs": []
    },
    {
      "cell_type": "code",
      "source": [
        "import openai\n",
        "openai.api_key = \"insert-openAI-API-here\"\n",
        "\n",
        "\n",
        "# Step 4: Summarize using GPT-3\n",
        "def summarize_text(text):\n",
        "    response = openai.Completion.create(\n",
        "        engine=\"text-davinci-003\", \n",
        "        prompt=f\"remove all unnecesary whitespace and formatting, then provide a short summary of less than 30 words of the following text: {text}\",\n",
        "        temperature=0.7,\n",
        "        max_tokens=50,\n",
        "        top_p=1,\n",
        "        frequency_penalty=0.5,\n",
        "        presence_penalty=0,\n",
        "    )\n",
        "    return response.choices[0].text.strip()\n",
        "\n",
        "# Step 5: Sentiment classification\n",
        "def sentiment_classification(text):\n",
        "    response = openai.Completion.create(\n",
        "        engine=\"text-davinci-003\", \n",
        "        prompt=f\"classify the sentiment of this breaking financial news article as a numerical float, with a range of -1 to 1 with 0.1 granularity, where -1 is maximum bearishness and 1 is maximum bullishness in relation to equities: {text}\",\n",
        "        temperature=0.7,\n",
        "        max_tokens=50,\n",
        "        top_p=1,\n",
        "        frequency_penalty=0.5,\n",
        "        presence_penalty=0,\n",
        "    )\n",
        "    return response.choices[0].text.strip()"
      ],
      "metadata": {
        "id": "r-NlATswBhpj"
      },
      "execution_count": 4,
      "outputs": []
    },
    {
      "cell_type": "code",
      "source": [
        "# Step 6: Store the summarized information in a SQLite database\n",
        "import sqlite3\n",
        "\n",
        "def create_db():\n",
        "    conn = sqlite3.connect('news.db')\n",
        "    cursor = conn.cursor()\n",
        "    cursor.execute('''CREATE TABLE IF NOT EXISTS news (published TEXT, title TEXT, summary TEXT, sentiment TEXT)''')\n",
        "    return conn, cursor\n",
        "\n",
        "def insert_news(cursor, published, title, summary, sentiment):\n",
        "    cursor.execute(\"INSERT INTO news (published, title, summary, sentiment) VALUES (?, ?, ?, ?)\", (published, title, summary, sentiment))\n",
        "    # Commit the changes to the database\n",
        "    conn.commit()"
      ],
      "metadata": {
        "id": "4JbNpYxYBoo0"
      },
      "execution_count": 27,
      "outputs": []
    },
    {
      "cell_type": "code",
      "source": [
        "# Step 7: Continuously monitor the RSS feed for updates\n",
        "import time\n",
        "\n",
        "def monitor_feed(url, conn, cursor, interval=60):\n",
        "    seen_titles = set()\n",
        "    while True:\n",
        "        feed = get_feed(url)\n",
        "        # print(feed.entries[0])\n",
        "        for entry in feed.entries:\n",
        "            title = entry.title\n",
        "            if title not in seen_titles:\n",
        "                if entry.category == \"News\" or entry.category ==\"Central Banks\" or entry.category ==\"Technical Analysis\":\n",
        "                    seen_titles.add(title)\n",
        "                    category = extract_text(entry.category)\n",
        "                    published = extract_text(entry.published)\n",
        "                    description = extract_text(entry.description)\n",
        "                    summary = summarize_text(description[:4000])\n",
        "                    sentiment = sentiment_classification(description[:4000])  \n",
        "                    insert_news(cursor, published, title, summary, sentiment)  \n",
        "                    print(f\"{published} >>> {category} >>> {title} >>> Summary: {summary} >>> Sentiment: {sentiment}\")\n",
        "        # Close the database connection and sleep\n",
        "        conn.close()\n",
        "        time.sleep(interval)\n"
      ],
      "metadata": {
        "id": "BsdXg5TLBtdT"
      },
      "execution_count": 28,
      "outputs": []
    },
    {
      "cell_type": "code",
      "source": [
        "'''\n",
        "# This code will download the RSS feed and process new entries every 60 seconds. \n",
        "Adjust the interval parameter in monitor_feed() to control how often the feed is checked.\n",
        "'''\n",
        "if __name__ == \"__main__\":\n",
        "    url = \"https://www.forexlive.com/feed\"\n",
        "    conn, cursor = create_db()\n",
        "    monitor_feed(url, conn, cursor)\n"
      ],
      "metadata": {
        "colab": {
          "base_uri": "https://localhost:8080/",
          "height": 765
        },
        "id": "BtUcnCZRBxoU",
        "outputId": "1f37d8b6-38ee-4910-eab8-5ca9265b54c1"
      },
      "execution_count": 29,
      "outputs": [
        {
          "output_type": "stream",
          "name": "stdout",
          "text": [
            "Tue, 18 Apr 2023 10:30:56 GMT >>> News >>> Stocks in a better mood so far today >>> Summary: Stocks up on optimistic tone; Eurostoxx, DAX, CAC 40 and FTSE all rising. >>> Sentiment: 0.7\n",
            "Tue, 18 Apr 2023 09:40:04 GMT >>> Technical Analysis >>> GBPUSD Technical Analysis - Rangebound >>> Summary: GBPUSD has failed to break above range top, boosted lower by US data. Now bouncing near prior swing, possible rally towards 1.2444. Sellers await 1.2344 break for bearish setup. >>> Sentiment: 0.0\n",
            "Tue, 18 Apr 2023 09:36:26 GMT >>> Technical Analysis >>> USDCAD Technical Analysis - Bearish Trend Returns >>> Summary: Bearish trend for USDCAD intact, Retail Sales and hawkish Fed remarks boost USD, buyers need break of trendline to gain conviction. >>> Sentiment: -0.2\n",
            "Tue, 18 Apr 2023 09:32:03 GMT >>> Technical Analysis >>> EURUSD Technical Analysis >>> Summary: EURUSD rejected at February high, double top likely; buyers may lean on trendline for support. >>> Sentiment: 0.3\n",
            "Tue, 18 Apr 2023 09:00:13 GMT >>> News >>> Germany April ZEW survey current conditions -32.5 vs -40.0 expected >>> Summary: German economic recovery continues; ZEW headline reading highest since June, but outlook reading misses estimates. >>> Sentiment: 0.8\n",
            "Tue, 18 Apr 2023 08:54:16 GMT >>> News >>> Dollar extends drop on the session >>> Summary: Dollar falls in European morning trade; GBP/USD buoyed by strong wages data, prompting BOE rate hike anticipation; US futures hold slight gains. >>> Sentiment: 0.7\n",
            "Tue, 18 Apr 2023 07:57:47 GMT >>> News >>> JP Morgan, Citi upgrade China 2023 full-year GDP growth forecast >>> Summary: JP Morgan and Citi upgrade China's 2023 GDP growth forecast to 6.4% and 6.1%, respectively, due to post-Covid recovery. >>> Sentiment: 0.9\n",
            "Tue, 18 Apr 2023 07:21:12 GMT >>> News >>> Dollar pinned lower to start the session >>> Summary: Dollar drops across the board; EUR/USD, GBP/USD, AUD/USD, NZD/USD all up. >>> Sentiment: 0.0\n",
            "Tue, 18 Apr 2023 07:17:21 GMT >>> News >>> European equities slightly higher at the open today >>> Summary: European stocks rise slightly; US futures more tentative; optimism in Europe despite possible central bank tightening. >>> Sentiment: 0.6\n",
            "Tue, 18 Apr 2023 06:31:08 GMT >>> Central Banks >>> BOJ's Ueda: Positive signs are emerging in prices, wage growth >>> Summary: Central Bank likely to achieve inflation target, but no rush to review fiscal policy. Eyes on next week's meeting for inflation outlook. >>> Sentiment: 0.3\n",
            "Tue, 18 Apr 2023 06:09:05 GMT >>> News >>> Eurostoxx futures +0.2% in early European trading >>> Summary: German DAX and UK FTSE futures up 0.2% after slight drop yesterday, US futures flat. >>> Sentiment: 0.0\n",
            "Tue, 18 Apr 2023 06:07:42 GMT >>> Technical Analysis >>> S&P 500 technical analysis from 2009 todate: The big picture >>> Summary: S&P 500 technical analysis reveals long-term uptrend with bullish outlook. Channel patterns, candlestick analysis, and understanding of market/economy disconnect used to navigate stock market. >>> Sentiment: 0.7\n",
            "Tue, 18 Apr 2023 06:01:21 GMT >>> News >>> UK March payrolls change 31k vs 98k prior >>> Summary: Unemployment rate slightly higher than expected, but payrolls still positive and wages running hot, keeping BOE alert to inflation. >>> Sentiment: 0.7\n",
            "Tue, 18 Apr 2023 05:20:54 GMT >>> News >>> Trade ideas thread - European session 18 April 2023 >>> Summary: Dollar is making gains, Fed pricing being repriced, balance between recession and safety flows for dollar. >>> Sentiment: 0.2\n",
            "Tue, 18 Apr 2023 04:42:48 GMT >>> News >>> UK labour market data on the agenda in Europe today >>> Summary: Dollar rises after last week's dip, higher bond yields and a less dovish Fed outlook drive markets; UK jobs report to affirm job market strength but wages will determine BOE's next move. >>> Sentiment: 0.6\n",
            "Tue, 18 Apr 2023 03:35:23 GMT >>> News >>> ForexLive Asia-Pacific FX news wrap: Chinese economy rebounds strongly in Q1 >>> Summary: China's Q1 GDP data and retail sales numbers impressed but markets remain unphased. Asian equities are mostly higher, and the aussie is slightly higher reacting to RBA minutes. BOJ will not be perturbed by fiscal constraints if policy >>> Sentiment: 0.7\n",
            "Tue, 18 Apr 2023 02:57:52 GMT >>> News >>> Fairly muted reaction to China's GDP data >>> Summary: China's Q1 optimism based on Covid-19 restrictions being lifted, but global headwinds persist, causing muted market reaction. >>> Sentiment: 0.4\n",
            "Tue, 18 Apr 2023 02:23:33 GMT >>> Central Banks >>> BOJ's Ueda: Buying government debt is part of monetary policy >>> Summary: BOJ bond purchases not aimed at monetising government debt; debate expected if BOJ moves away from ultra-easy policy. >>> Sentiment: 0.2\n",
            "Tue, 18 Apr 2023 02:08:18 GMT >>> News >>> China Q1 GDP +2.2% vs +2.2% q/q expected >>> Summary: GDP grows faster than expected in Q1 at 4.5% y/y, with retail sales and industrial output also improving. >>> Sentiment: 0.8\n",
            "Tue, 18 Apr 2023 01:56:03 GMT >>> Central Banks >>> BOJ's Uchida: Fiscal constraints won't undermine ability to carry out monetary policy >>> Summary: BOJ unlikely to make any major changes at next week's monetary policy meeting. >>> Sentiment: 0.0\n",
            "Tue, 18 Apr 2023 01:34:36 GMT >>> Central Banks >>> RBA minutes show strong case to pause and reassess need for tightening at future meetings >>> Summary: Board considered rate hike in April, decided to pause; assessing inflation, jobs, consumer spending, business conditions; inflation high, labour market loosened but tight, bank stress causing tighter global financial conditions. >>> Sentiment: 0.3\n",
            "Tue, 18 Apr 2023 01:33:17 GMT >>> News >>> Major currencies little changed so far after dollar rebound yesterday >>> Summary: USD narrowly held its ground before falling, leading to a rebound in US trading. Major currencies in Asia Pacific trading are little changed with narrow ranges. USD/JPY is up to one-month highs, EUR/USD is slipping back below 100 >>> Sentiment: 0.0\n",
            "Tue, 18 Apr 2023 01:15:16 GMT >>> Central Banks >>> PBOC sets USD/ CNY reference rate for today at 6.8814 (vs. estimate at 6.8828) >>> Summary: PBOC set onshore and offshore yuan rates, a strong or weak rate is a signal and OMOs inject 38bn yuan with 50bn maturing, net drain of 12bn. >>> Sentiment: 0.0\n"
          ]
        },
        {
          "output_type": "error",
          "ename": "ProgrammingError",
          "evalue": "ignored",
          "traceback": [
            "\u001b[0;31m---------------------------------------------------------------------------\u001b[0m",
            "\u001b[0;31mProgrammingError\u001b[0m                          Traceback (most recent call last)",
            "\u001b[0;32m<ipython-input-29-95e451f0c590>\u001b[0m in \u001b[0;36m<cell line: 5>\u001b[0;34m()\u001b[0m\n\u001b[1;32m      6\u001b[0m     \u001b[0murl\u001b[0m \u001b[0;34m=\u001b[0m \u001b[0;34m\"https://www.forexlive.com/feed\"\u001b[0m\u001b[0;34m\u001b[0m\u001b[0;34m\u001b[0m\u001b[0m\n\u001b[1;32m      7\u001b[0m     \u001b[0mconn\u001b[0m\u001b[0;34m,\u001b[0m \u001b[0mcursor\u001b[0m \u001b[0;34m=\u001b[0m \u001b[0mcreate_db\u001b[0m\u001b[0;34m(\u001b[0m\u001b[0;34m)\u001b[0m\u001b[0;34m\u001b[0m\u001b[0;34m\u001b[0m\u001b[0m\n\u001b[0;32m----> 8\u001b[0;31m     \u001b[0mmonitor_feed\u001b[0m\u001b[0;34m(\u001b[0m\u001b[0murl\u001b[0m\u001b[0;34m,\u001b[0m \u001b[0mconn\u001b[0m\u001b[0;34m,\u001b[0m \u001b[0mcursor\u001b[0m\u001b[0;34m)\u001b[0m\u001b[0;34m\u001b[0m\u001b[0;34m\u001b[0m\u001b[0m\n\u001b[0m",
            "\u001b[0;32m<ipython-input-28-906270dc1b34>\u001b[0m in \u001b[0;36mmonitor_feed\u001b[0;34m(url, conn, cursor, interval)\u001b[0m\n\u001b[1;32m     17\u001b[0m                     \u001b[0msummary\u001b[0m \u001b[0;34m=\u001b[0m \u001b[0msummarize_text\u001b[0m\u001b[0;34m(\u001b[0m\u001b[0mdescription\u001b[0m\u001b[0;34m[\u001b[0m\u001b[0;34m:\u001b[0m\u001b[0;36m4000\u001b[0m\u001b[0;34m]\u001b[0m\u001b[0;34m)\u001b[0m\u001b[0;34m\u001b[0m\u001b[0;34m\u001b[0m\u001b[0m\n\u001b[1;32m     18\u001b[0m                     \u001b[0msentiment\u001b[0m \u001b[0;34m=\u001b[0m \u001b[0msentiment_classification\u001b[0m\u001b[0;34m(\u001b[0m\u001b[0mdescription\u001b[0m\u001b[0;34m[\u001b[0m\u001b[0;34m:\u001b[0m\u001b[0;36m4000\u001b[0m\u001b[0;34m]\u001b[0m\u001b[0;34m)\u001b[0m\u001b[0;34m\u001b[0m\u001b[0;34m\u001b[0m\u001b[0m\n\u001b[0;32m---> 19\u001b[0;31m                     \u001b[0minsert_news\u001b[0m\u001b[0;34m(\u001b[0m\u001b[0mcursor\u001b[0m\u001b[0;34m,\u001b[0m \u001b[0mpublished\u001b[0m\u001b[0;34m,\u001b[0m \u001b[0mtitle\u001b[0m\u001b[0;34m,\u001b[0m \u001b[0msummary\u001b[0m\u001b[0;34m,\u001b[0m \u001b[0msentiment\u001b[0m\u001b[0;34m)\u001b[0m\u001b[0;34m\u001b[0m\u001b[0;34m\u001b[0m\u001b[0m\n\u001b[0m\u001b[1;32m     20\u001b[0m                     \u001b[0mprint\u001b[0m\u001b[0;34m(\u001b[0m\u001b[0;34mf\"{published} >>> {category} >>> {title} >>> Summary: {summary} >>> Sentiment: {sentiment}\"\u001b[0m\u001b[0;34m)\u001b[0m\u001b[0;34m\u001b[0m\u001b[0;34m\u001b[0m\u001b[0m\n\u001b[1;32m     21\u001b[0m         \u001b[0;31m# Close the database connection and sleep\u001b[0m\u001b[0;34m\u001b[0m\u001b[0;34m\u001b[0m\u001b[0m\n",
            "\u001b[0;32m<ipython-input-27-bdfaca34d34f>\u001b[0m in \u001b[0;36minsert_news\u001b[0;34m(cursor, published, title, summary, sentiment)\u001b[0m\n\u001b[1;32m      9\u001b[0m \u001b[0;34m\u001b[0m\u001b[0m\n\u001b[1;32m     10\u001b[0m \u001b[0;32mdef\u001b[0m \u001b[0minsert_news\u001b[0m\u001b[0;34m(\u001b[0m\u001b[0mcursor\u001b[0m\u001b[0;34m,\u001b[0m \u001b[0mpublished\u001b[0m\u001b[0;34m,\u001b[0m \u001b[0mtitle\u001b[0m\u001b[0;34m,\u001b[0m \u001b[0msummary\u001b[0m\u001b[0;34m,\u001b[0m \u001b[0msentiment\u001b[0m\u001b[0;34m)\u001b[0m\u001b[0;34m:\u001b[0m\u001b[0;34m\u001b[0m\u001b[0;34m\u001b[0m\u001b[0m\n\u001b[0;32m---> 11\u001b[0;31m     \u001b[0mcursor\u001b[0m\u001b[0;34m.\u001b[0m\u001b[0mexecute\u001b[0m\u001b[0;34m(\u001b[0m\u001b[0;34m\"INSERT INTO news (published, title, summary, sentiment) VALUES (?, ?, ?, ?)\"\u001b[0m\u001b[0;34m,\u001b[0m \u001b[0;34m(\u001b[0m\u001b[0mpublished\u001b[0m\u001b[0;34m,\u001b[0m \u001b[0mtitle\u001b[0m\u001b[0;34m,\u001b[0m \u001b[0msummary\u001b[0m\u001b[0;34m,\u001b[0m \u001b[0msentiment\u001b[0m\u001b[0;34m)\u001b[0m\u001b[0;34m)\u001b[0m\u001b[0;34m\u001b[0m\u001b[0;34m\u001b[0m\u001b[0m\n\u001b[0m\u001b[1;32m     12\u001b[0m     \u001b[0;31m# Commit the changes to the database\u001b[0m\u001b[0;34m\u001b[0m\u001b[0;34m\u001b[0m\u001b[0m\n\u001b[1;32m     13\u001b[0m     \u001b[0mconn\u001b[0m\u001b[0;34m.\u001b[0m\u001b[0mcommit\u001b[0m\u001b[0;34m(\u001b[0m\u001b[0;34m)\u001b[0m\u001b[0;34m\u001b[0m\u001b[0;34m\u001b[0m\u001b[0m\n",
            "\u001b[0;31mProgrammingError\u001b[0m: Cannot operate on a closed database."
          ]
        }
      ]
    }
  ]
}
