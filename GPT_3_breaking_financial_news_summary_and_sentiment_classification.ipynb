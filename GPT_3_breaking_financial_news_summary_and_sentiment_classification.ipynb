{
  "nbformat": 4,
  "nbformat_minor": 0,
  "metadata": {
    "colab": {
      "provenance": []
    },
    "kernelspec": {
      "name": "python3",
      "display_name": "Python 3"
    },
    "language_info": {
      "name": "python"
    }
  },
  "cells": [
    {
      "cell_type": "code",
      "execution_count": 1,
      "metadata": {
        "id": "nH2D1SpjBXj9",
        "colab": {
          "base_uri": "https://localhost:8080/"
        },
        "outputId": "062b6f65-5a99-45e6-c003-d4eca29f926c"
      },
      "outputs": [
        {
          "output_type": "stream",
          "name": "stdout",
          "text": [
            "Looking in indexes: https://pypi.org/simple, https://us-python.pkg.dev/colab-wheels/public/simple/\n",
            "Collecting feedparser\n",
            "  Downloading feedparser-6.0.10-py3-none-any.whl (81 kB)\n",
            "\u001b[2K     \u001b[90m━━━━━━━━━━━━━━━━━━━━━━━━━━━━━━━━━━━━━━━━\u001b[0m \u001b[32m81.1/81.1 kB\u001b[0m \u001b[31m1.4 MB/s\u001b[0m eta \u001b[36m0:00:00\u001b[0m\n",
            "\u001b[?25hRequirement already satisfied: beautifulsoup4 in /usr/local/lib/python3.9/dist-packages (4.11.2)\n",
            "Collecting openai\n",
            "  Downloading openai-0.27.4-py3-none-any.whl (70 kB)\n",
            "\u001b[2K     \u001b[90m━━━━━━━━━━━━━━━━━━━━━━━━━━━━━━━━━━━━━━━━\u001b[0m \u001b[32m70.3/70.3 kB\u001b[0m \u001b[31m4.5 MB/s\u001b[0m eta \u001b[36m0:00:00\u001b[0m\n",
            "\u001b[?25hCollecting sgmllib3k\n",
            "  Downloading sgmllib3k-1.0.0.tar.gz (5.8 kB)\n",
            "  Preparing metadata (setup.py) ... \u001b[?25l\u001b[?25hdone\n",
            "Requirement already satisfied: soupsieve>1.2 in /usr/local/lib/python3.9/dist-packages (from beautifulsoup4) (2.4)\n",
            "Collecting aiohttp\n",
            "  Downloading aiohttp-3.8.4-cp39-cp39-manylinux_2_17_x86_64.manylinux2014_x86_64.whl (1.0 MB)\n",
            "\u001b[2K     \u001b[90m━━━━━━━━━━━━━━━━━━━━━━━━━━━━━━━━━━━━━━━━\u001b[0m \u001b[32m1.0/1.0 MB\u001b[0m \u001b[31m16.2 MB/s\u001b[0m eta \u001b[36m0:00:00\u001b[0m\n",
            "\u001b[?25hRequirement already satisfied: requests>=2.20 in /usr/local/lib/python3.9/dist-packages (from openai) (2.27.1)\n",
            "Requirement already satisfied: tqdm in /usr/local/lib/python3.9/dist-packages (from openai) (4.65.0)\n",
            "Requirement already satisfied: idna<4,>=2.5 in /usr/local/lib/python3.9/dist-packages (from requests>=2.20->openai) (3.4)\n",
            "Requirement already satisfied: urllib3<1.27,>=1.21.1 in /usr/local/lib/python3.9/dist-packages (from requests>=2.20->openai) (1.26.15)\n",
            "Requirement already satisfied: certifi>=2017.4.17 in /usr/local/lib/python3.9/dist-packages (from requests>=2.20->openai) (2022.12.7)\n",
            "Requirement already satisfied: charset-normalizer~=2.0.0 in /usr/local/lib/python3.9/dist-packages (from requests>=2.20->openai) (2.0.12)\n",
            "Collecting yarl<2.0,>=1.0\n",
            "  Downloading yarl-1.8.2-cp39-cp39-manylinux_2_17_x86_64.manylinux2014_x86_64.whl (264 kB)\n",
            "\u001b[2K     \u001b[90m━━━━━━━━━━━━━━━━━━━━━━━━━━━━━━━━━━━━━━━\u001b[0m \u001b[32m264.6/264.6 kB\u001b[0m \u001b[31m7.0 MB/s\u001b[0m eta \u001b[36m0:00:00\u001b[0m\n",
            "\u001b[?25hCollecting async-timeout<5.0,>=4.0.0a3\n",
            "  Downloading async_timeout-4.0.2-py3-none-any.whl (5.8 kB)\n",
            "Requirement already satisfied: attrs>=17.3.0 in /usr/local/lib/python3.9/dist-packages (from aiohttp->openai) (22.2.0)\n",
            "Collecting aiosignal>=1.1.2\n",
            "  Downloading aiosignal-1.3.1-py3-none-any.whl (7.6 kB)\n",
            "Collecting multidict<7.0,>=4.5\n",
            "  Downloading multidict-6.0.4-cp39-cp39-manylinux_2_17_x86_64.manylinux2014_x86_64.whl (114 kB)\n",
            "\u001b[2K     \u001b[90m━━━━━━━━━━━━━━━━━━━━━━━━━━━━━━━━━━━━━━━\u001b[0m \u001b[32m114.2/114.2 kB\u001b[0m \u001b[31m3.3 MB/s\u001b[0m eta \u001b[36m0:00:00\u001b[0m\n",
            "\u001b[?25hCollecting frozenlist>=1.1.1\n",
            "  Downloading frozenlist-1.3.3-cp39-cp39-manylinux_2_5_x86_64.manylinux1_x86_64.manylinux_2_17_x86_64.manylinux2014_x86_64.whl (158 kB)\n",
            "\u001b[2K     \u001b[90m━━━━━━━━━━━━━━━━━━━━━━━━━━━━━━━━━━━━━━━\u001b[0m \u001b[32m158.8/158.8 kB\u001b[0m \u001b[31m7.6 MB/s\u001b[0m eta \u001b[36m0:00:00\u001b[0m\n",
            "\u001b[?25hBuilding wheels for collected packages: sgmllib3k\n",
            "  Building wheel for sgmllib3k (setup.py) ... \u001b[?25l\u001b[?25hdone\n",
            "  Created wheel for sgmllib3k: filename=sgmllib3k-1.0.0-py3-none-any.whl size=6065 sha256=58ff79415e46311340104e95061fbbd5d24ee2f5043b5acb2a7cfcde3a88ef0c\n",
            "  Stored in directory: /root/.cache/pip/wheels/65/7a/a7/78c287f64e401255dff4c13fdbc672fed5efbfd21c530114e1\n",
            "Successfully built sgmllib3k\n",
            "Installing collected packages: sgmllib3k, multidict, frozenlist, feedparser, async-timeout, yarl, aiosignal, aiohttp, openai\n",
            "Successfully installed aiohttp-3.8.4 aiosignal-1.3.1 async-timeout-4.0.2 feedparser-6.0.10 frozenlist-1.3.3 multidict-6.0.4 openai-0.27.4 sgmllib3k-1.0.0 yarl-1.8.2\n"
          ]
        }
      ],
      "source": [
        "# Step 1: Install required packages\n",
        "!pip install feedparser beautifulsoup4 openai"
      ]
    },
    {
      "cell_type": "code",
      "source": [
        "# Step 2: Download and parse the RSS feed\n",
        "import feedparser\n",
        "def get_feed(url):\n",
        "    return feedparser.parse(url)"
      ],
      "metadata": {
        "id": "Pc3S-XJVBaIb"
      },
      "execution_count": 2,
      "outputs": []
    },
    {
      "cell_type": "code",
      "source": [
        "# Step 3: Extract HTML from the description\n",
        "from bs4 import BeautifulSoup\n",
        "\n",
        "def extract_text(html):\n",
        "    soup = BeautifulSoup(html, \"html.parser\")\n",
        "    return soup.get_text()"
      ],
      "metadata": {
        "id": "W5XIA-eyBfJU"
      },
      "execution_count": 3,
      "outputs": []
    },
    {
      "cell_type": "code",
      "source": [
        "import openai\n",
        "openai.api_key = \"insert-openAI-API-here\"\n",
        "\n",
        "\n",
        "# Step 4: Summarize using GPT-3\n",
        "def summarize_text(text):\n",
        "    response = openai.Completion.create(\n",
        "        engine=\"text-davinci-003\", \n",
        "        prompt=f\"remove all unnecesary whitespace and formatting, then provide a short summary of less than 30 words of the following text: {text}\",\n",
        "        temperature=0.7,\n",
        "        max_tokens=50,\n",
        "        top_p=1,\n",
        "        frequency_penalty=0.5,\n",
        "        presence_penalty=0,\n",
        "    )\n",
        "    return response.choices[0].text.strip()\n",
        "\n",
        "# Step 5: Sentiment classification\n",
        "def sentiment_classification(text):\n",
        "    response = openai.Completion.create(\n",
        "        engine=\"text-davinci-003\", \n",
        "        prompt=f\"please classify the sentiment of this breaking financial news article on a range of -1 to 1 with 0.1 granularity, where -1 is maximum bearishness and 1 is maximum bullishness in relation to equities: {text}\",\n",
        "        temperature=0.7,\n",
        "        max_tokens=50,\n",
        "        top_p=1,\n",
        "        frequency_penalty=0.5,\n",
        "        presence_penalty=0,\n",
        "    )\n",
        "    return response.choices[0].text.strip()"
      ],
      "metadata": {
        "id": "r-NlATswBhpj"
      },
      "execution_count": 97,
      "outputs": []
    },
    {
      "cell_type": "code",
      "source": [
        "# Step 6: Store the summarized information in a SQLite database\n",
        "import sqlite3\n",
        "\n",
        "def create_db():\n",
        "    conn = sqlite3.connect(\":memory:\")\n",
        "    cursor = conn.cursor()\n",
        "    cursor.execute('''CREATE TABLE news (title TEXT, summary TEXT, sentiment TEXT)''')\n",
        "    return conn, cursor\n",
        "\n",
        "def insert_news(cursor, title, summary, sentiment):\n",
        "    cursor.execute(\"INSERT INTO news (title, summary, sentiment) VALUES (?, ?, ?)\", (title, summary, sentiment))\n"
      ],
      "metadata": {
        "id": "4JbNpYxYBoo0"
      },
      "execution_count": 94,
      "outputs": []
    },
    {
      "cell_type": "code",
      "source": [
        "# Step 7: Continuously monitor the RSS feed for updates\n",
        "import time\n",
        "\n",
        "def monitor_feed(url, conn, cursor, interval=60):\n",
        "    seen_titles = set()\n",
        "    while True:\n",
        "        feed = get_feed(url)\n",
        "        for entry in feed.entries:\n",
        "            title = entry.title\n",
        "            if title not in seen_titles:\n",
        "                if entry.category == \"News\" or entry.category ==\"Central Banks\" or entry.category ==\"Technical Analysis\":\n",
        "                    seen_titles.add(title)\n",
        "                    category = extract_text(entry.category)\n",
        "                    description = extract_text(entry.description)\n",
        "                    summary = summarize_text(description[:4000])\n",
        "                    sentiment = sentiment_classification(description[:4000])  \n",
        "                    insert_news(cursor, title, summary, sentiment)  \n",
        "                    print(f\"{category} >>> {title} >>> Summary: {summary} >>> Sentiment: {sentiment}\")\n",
        "        time.sleep(interval)"
      ],
      "metadata": {
        "id": "BsdXg5TLBtdT"
      },
      "execution_count": 95,
      "outputs": []
    },
    {
      "cell_type": "code",
      "source": [
        "'''\n",
        "# This code will download the RSS feed and process new entries every 60 seconds. \n",
        "Adjust the interval parameter in monitor_feed() to control how often the feed is checked.\n",
        "'''\n",
        "if __name__ == \"__main__\":\n",
        "    url = \"https://www.forexlive.com/feed\"\n",
        "    conn, cursor = create_db()\n",
        "    monitor_feed(url, conn, cursor)"
      ],
      "metadata": {
        "colab": {
          "base_uri": "https://localhost:8080/",
          "height": 724
        },
        "id": "BtUcnCZRBxoU",
        "outputId": "0099ee16-c774-4ece-d508-9e0a46a0aedb"
      },
      "execution_count": 98,
      "outputs": [
        {
          "output_type": "stream",
          "name": "stdout",
          "text": [
            "News >>> China Q1 GDP and March activity data due at 0200 GMT (10pm US Eastern time) >>> Summary: China to release GDP and activity data, expecting growth from consumption & infrastructure investment; looking at impact of loan growth, retail sales recovery. >>> Sentiment: 0.3\n",
            "News >>> Australian weekly Consumer Confidence comes in at its 7th lowest since March of 2020 >>> Summary: ANZ-Roy Morgan Australian Consumer Confidence fell to 7th weakest since Mar 2020 despite RBA no-hike decision, rising housing prices & low unemployment; Inflation expectations rose 0.5ppt to 5.6%. >>> Sentiment: -0.7\n",
            "Central Banks >>> Bank of Japan Governor Ueda will speak in the Japanese parliament Tuesday, 18 April 2023 >>> Summary: Bank of Japan Governor Ueda to appear before Diet financial committee, reiterating dovish comments to stay the course. >>> Sentiment: 0.0\n",
            "News >>> JP Morgan forecasts Brent crude oil to US$94 a barrel in Q4 2023 >>> Summary: It discusses how investors' sentiment was hit by weaker demand in Asia, caused by OPEC's decision to cut output, though this will not take effect until next month. JPMorgan forecasts Brent to $94/bbl in Q4 and expects recession at the >>> Sentiment: The sentiment of the article is 0.2 on the scale of -1 to 1 with 0.1 granularity, where -1 is maximum bearishness and 1 is maximum bullishness in relation to equities.\n",
            "News >>> Deutsche Bank see a near-term S&P 500 rally above 4250 >>> Summary: Deutsche Bank's Bankim Chadha expects Q1 earnings to beat expectations and a weakening US dollar to drive a near term SPX rally above 4250, but cautions of considerable uncertainty. >>> Sentiment: 0.4\n",
            "News >>> Morgan Stanley on US Stocks -  \"we are far from out of the woods with this bear market\" >>> Summary: Fed policy shift in March could mean higher yields, negative surprises for investors, Q1 earnings estimates down 15%, business sentiment down, market breadth at a record low and potential for a 15% US stock market fall in even a mild recession. >>> Sentiment: -0.7\n",
            "News >>> JP Morgan Kolanovic says even a mild recession could cause US stocks to fall by 15% >>> Summary: Marko Kolanovic, JPM's chief global markets strategist, recommends that clients keep equity allocation underweight, & overweight in cash and Japanese stocks due to irrational market factors and potential 15%+ downside. >>> Sentiment: -0.1\n",
            "Central Banks >>> ICYMI - BIS' head Carstens says interest rates may need to be higher, for longer >>> Summary: BIS's Carstens speaks at Colombia University; warns of high-inflation regime, debt levels, and financial instability. >>> Sentiment: 0.5\n",
            "News >>> Forexlive Americas FX news wrap 17 Apr: Empire manufacturing index strong. USD rallies. >>> Summary: 3% last monthUS industrial production at 9:15 AM. Estimate 0.5% versus -0.5% last monthUS Empire manufacturing index rose to 10.8%, US yields pushed up, USD strongest, EUR weakest, gold down >>> Sentiment: 3% last monthUS housing starts at 8:30 AM ET. Estimate 1.724M versus 1.723M last monthOverall sentiment: 0.5\n",
            "Central Banks >>> CIBC targeting USD/JPY down to 123 by end of Q3 >>> Summary: CIBC Research maintains bullish bias on JPY; BoJ's Uchida underlined no market communication of YCC adjustments before adjustment. >>> Sentiment: 0.8\n",
            "Central Banks >>> Economic calendar in Asia 18 April 2023 - RBA minutes, China Q1 GDP & March economic data >>> Summary: The Reserve Bank of Australia paused its 10-month rate hike cycle and awaits incoming data to assess the effects. China's PBOC injected 20 billion yuan, suggesting an unconcerned view of economic recovery. >>> Sentiment: 0.3\n",
            "News >>> Trade ideas thread - Tuesday, 18 April 2023 >>> Summary: Share and discuss ForexLive traders' charts, technical analysis, trade ideas, thoughts, and views. >>> Sentiment: 0.0\n",
            "News >>> US stocks rally into the close and end the day near the highs >>> Summary: Major US indices close near highs, Dow +100.82 pts, S&P +13.69 pts, NASDAQ +34.25 pts, Russell 2000 +21.68 pts, small-cap stocks favored despite no negative territory. >>> Sentiment: 0.9\n",
            "Technical Analysis >>> EURUSD rebounds into the close >>> Summary: EURUSD is rising as stocks rebound, traders watch 200 hour MA at 1.09436, looking to break above or below it. >>> Sentiment: 0.3\n",
            "News >>> WTI crude oil settle at $80.83 >>> Summary: Price of WTI crude oil futures down $1.69 or 2.05%, sellers take control and force price to downside. >>> Sentiment: -0.7\n",
            "Technical Analysis >>> US a two year yield pushes 4.20% for the first time since March 22 >>> Summary: 2-year yield near highs for the day, with Fed's rate hike expectations pushing yields higher; 10-year yield above 100/200 hour MA with momentum. >>> Sentiment: 0.7\n",
            "Technical Analysis >>> Gold market dynamics: The battle between buyers and sellers is on. >>> Summary: Gold market fluctuates with double bottom at $1981; bullish bias needs to rise above 200-hour and 100-hour moving averages for hope of buyers, sellers challenged to cause further declines. >>> Sentiment: 0.0\n",
            "Central Banks >>> Feds Barkin: Wants further evidence that inflation is settling back to target >>> Summary: Fed's Barkin wants evidence inflation is settling, economy operating fine; reassured by banking sector. May meeting likely to raise rates 25 points, but inflation still too high. >>> Sentiment: 0.2\n",
            "News >>> What major earnings releases are expected this week >>> Summary: Companies reporting April 17-21: Johnson & Johnson, Bank of America, Netflix, Goldman Sachs, Lockheed Martin; April 24-28: Coca-Cola, Microsoft, Alphabet, Visa, PepsiCo, McDonald's, Verizon. >>> Sentiment: 0.0\n",
            "News >>> GBPUSD trades to a new session low. Tests swing area. >>> Summary: GBPUSD has moved to a new session low, testing a swing area near 1.2343-1.23603. Last week's rally failed; sharp selloff today targets 1.2260-1.2282 area. >>> Sentiment: -0.3\n",
            "Central Banks >>> Feds Barkin is due to speak. Be aware. >>> Summary: Richmond Fed Pres. Barkin is set to speak on inflation and bank lending. >>> Sentiment: 0.2\n",
            "Technical Analysis >>> Major European indices closed session with mixed results >>> Summary: European indices end mixed; France declined after four-session gains, UK and Spain rose. >>> Sentiment: 0\n",
            "Central Banks >>> Lagarde: On changing 2% goal, once inflation objective is achieved, we can discuss >>> Summary: ECB President says once inflation objective is achieved, discussion of changing 2% target goal can be had. >>> Sentiment: 0.0\n",
            "Technical Analysis >>> USDJPY follows yields higher. >>> Summary: USDJPY has risen to highest level since March 15, reaching 134.567 with support from buyers near swing area at 133.74 and 133.87. >>> Sentiment: 0.9\n"
          ]
        },
        {
          "output_type": "error",
          "ename": "KeyboardInterrupt",
          "evalue": "ignored",
          "traceback": [
            "\u001b[0;31m---------------------------------------------------------------------------\u001b[0m",
            "\u001b[0;31mKeyboardInterrupt\u001b[0m                         Traceback (most recent call last)",
            "\u001b[0;32m<ipython-input-98-95e451f0c590>\u001b[0m in \u001b[0;36m<cell line: 5>\u001b[0;34m()\u001b[0m\n\u001b[1;32m      6\u001b[0m     \u001b[0murl\u001b[0m \u001b[0;34m=\u001b[0m \u001b[0;34m\"https://www.forexlive.com/feed\"\u001b[0m\u001b[0;34m\u001b[0m\u001b[0;34m\u001b[0m\u001b[0m\n\u001b[1;32m      7\u001b[0m     \u001b[0mconn\u001b[0m\u001b[0;34m,\u001b[0m \u001b[0mcursor\u001b[0m \u001b[0;34m=\u001b[0m \u001b[0mcreate_db\u001b[0m\u001b[0;34m(\u001b[0m\u001b[0;34m)\u001b[0m\u001b[0;34m\u001b[0m\u001b[0;34m\u001b[0m\u001b[0m\n\u001b[0;32m----> 8\u001b[0;31m     \u001b[0mmonitor_feed\u001b[0m\u001b[0;34m(\u001b[0m\u001b[0murl\u001b[0m\u001b[0;34m,\u001b[0m \u001b[0mconn\u001b[0m\u001b[0;34m,\u001b[0m \u001b[0mcursor\u001b[0m\u001b[0;34m)\u001b[0m\u001b[0;34m\u001b[0m\u001b[0;34m\u001b[0m\u001b[0m\n\u001b[0m",
            "\u001b[0;32m<ipython-input-95-ba38d9f7eff6>\u001b[0m in \u001b[0;36mmonitor_feed\u001b[0;34m(url, conn, cursor, interval)\u001b[0m\n\u001b[1;32m     17\u001b[0m                     \u001b[0minsert_news\u001b[0m\u001b[0;34m(\u001b[0m\u001b[0mcursor\u001b[0m\u001b[0;34m,\u001b[0m \u001b[0mtitle\u001b[0m\u001b[0;34m,\u001b[0m \u001b[0msummary\u001b[0m\u001b[0;34m,\u001b[0m \u001b[0msentiment\u001b[0m\u001b[0;34m)\u001b[0m\u001b[0;34m\u001b[0m\u001b[0;34m\u001b[0m\u001b[0m\n\u001b[1;32m     18\u001b[0m                     \u001b[0mprint\u001b[0m\u001b[0;34m(\u001b[0m\u001b[0;34mf\"{category} >>> {title} >>> Summary: {summary} >>> Sentiment: {sentiment}\"\u001b[0m\u001b[0;34m)\u001b[0m\u001b[0;34m\u001b[0m\u001b[0;34m\u001b[0m\u001b[0m\n\u001b[0;32m---> 19\u001b[0;31m         \u001b[0mtime\u001b[0m\u001b[0;34m.\u001b[0m\u001b[0msleep\u001b[0m\u001b[0;34m(\u001b[0m\u001b[0minterval\u001b[0m\u001b[0;34m)\u001b[0m\u001b[0;34m\u001b[0m\u001b[0;34m\u001b[0m\u001b[0m\n\u001b[0m",
            "\u001b[0;31mKeyboardInterrupt\u001b[0m: "
          ]
        }
      ]
    }
  ]
}