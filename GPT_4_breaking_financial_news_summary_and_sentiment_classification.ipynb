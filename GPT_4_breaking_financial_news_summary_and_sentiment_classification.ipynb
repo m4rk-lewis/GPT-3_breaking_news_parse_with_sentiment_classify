{
  "nbformat": 4,
  "nbformat_minor": 0,
  "metadata": {
    "colab": {
      "provenance": []
    },
    "kernelspec": {
      "name": "python3",
      "display_name": "Python 3"
    },
    "language_info": {
      "name": "python"
    }
  },
  "cells": [
    {
      "cell_type": "code",
      "execution_count": null,
      "metadata": {
        "id": "nH2D1SpjBXj9"
      },
      "outputs": [],
      "source": [
        "# Step 1: Install required packages\n",
        "!pip install feedparser beautifulsoup4 openai"
      ]
    },
    {
      "cell_type": "code",
      "source": [
        "# Step 2: Download and parse the RSS feed\n",
        "import feedparser\n",
        "def get_feed(url):\n",
        "    return feedparser.parse(url)"
      ],
      "metadata": {
        "id": "Pc3S-XJVBaIb"
      },
      "execution_count": 2,
      "outputs": []
    },
    {
      "cell_type": "code",
      "source": [
        "# Step 3: Extract HTML from the description\n",
        "from bs4 import BeautifulSoup\n",
        "\n",
        "def extract_text(html):\n",
        "    soup = BeautifulSoup(html, \"html.parser\")\n",
        "    return soup.get_text()"
      ],
      "metadata": {
        "id": "W5XIA-eyBfJU"
      },
      "execution_count": 3,
      "outputs": []
    },
    {
      "cell_type": "code",
      "source": [
        "import openai\n",
        "openai.api_key = \"insert-your-API-key-here\"\n",
        "\n",
        "\n",
        "# Step 4: Summarize using GPT-4\n",
        "def summarize_text(text):\n",
        "    response = openai.Completion.create(\n",
        "        engine=\"text-davinci-002\", \n",
        "        prompt=f\"Please provide a short summary of the following text and remove unnecesary swhitespace: {text}\",\n",
        "        temperature=0.7,\n",
        "        max_tokens=50,\n",
        "        top_p=1,\n",
        "        frequency_penalty=0.5,\n",
        "        presence_penalty=0,\n",
        "    )\n",
        "    return response.choices[0].text.strip()\n",
        "\n",
        "# Step 5: Sentiment classification\n",
        "def sentiment_classification(text):\n",
        "    response = openai.Completion.create(\n",
        "        engine=\"text-davinci-002\", \n",
        "        prompt=f\"Please classify this breaking financial news article on a range of -1 to 1 with 0.1 granularity, where -1 is maximum bearishness and 1 is maximum bullishness: {text}\",\n",
        "        temperature=0.7,\n",
        "        max_tokens=50,\n",
        "        top_p=1,\n",
        "        frequency_penalty=0.5,\n",
        "        presence_penalty=0,\n",
        "    )\n",
        "    return response.choices[0].text.strip()"
      ],
      "metadata": {
        "id": "r-NlATswBhpj"
      },
      "execution_count": 23,
      "outputs": []
    },
    {
      "cell_type": "code",
      "source": [
        "# Step 6: Store the summarized information in a SQLite database\n",
        "import sqlite3\n",
        "\n",
        "def create_db():\n",
        "    conn = sqlite3.connect(\":memory:\")\n",
        "    cursor = conn.cursor()\n",
        "    cursor.execute('''CREATE TABLE news (title TEXT, summary TEXT, sentiment TEXT)''')\n",
        "    return conn, cursor\n",
        "\n",
        "def insert_news(cursor, title, summary, sentiment=None):\n",
        "    cursor.execute(\"INSERT INTO news (title, summary, sentiment) VALUES (?, ?, ?)\", (title, summary, sentiment))\n"
      ],
      "metadata": {
        "id": "4JbNpYxYBoo0"
      },
      "execution_count": 5,
      "outputs": []
    },
    {
      "cell_type": "code",
      "source": [
        "# Step 7: Continuously monitor the RSS feed for updates\n",
        "import time\n",
        "\n",
        "def monitor_feed(url, conn, cursor, interval=60):\n",
        "    seen_titles = set()\n",
        "    while True:\n",
        "        feed = get_feed(url)\n",
        "        for entry in feed.entries:\n",
        "            title = entry.title\n",
        "            if title not in seen_titles:\n",
        "                seen_titles.add(title)\n",
        "                description = extract_text(entry.description)\n",
        "                summary = summarize_text(description[:4000])\n",
        "                sentiment = sentiment_classification(description[:4000])  \n",
        "                insert_news(cursor, title, summary, sentiment)  \n",
        "                print(f\"Inserted news: {title} : {summary} : {sentiment}\")\n",
        "        time.sleep(interval)"
      ],
      "metadata": {
        "id": "BsdXg5TLBtdT"
      },
      "execution_count": 24,
      "outputs": []
    },
    {
      "cell_type": "code",
      "source": [
        "'''\n",
        "# This code will download the RSS feed and process new entries every 60 seconds. \n",
        "Adjust the interval parameter in monitor_feed() to control how often the feed is checked.\n",
        "'''\n",
        "if __name__ == \"__main__\":\n",
        "    url = \"https://www.forexlive.com/feed\"\n",
        "    conn, cursor = create_db()\n",
        "    monitor_feed(url, conn, cursor)"
      ],
      "metadata": {
        "colab": {
          "base_uri": "https://localhost:8080/",
          "height": 932
        },
        "id": "BtUcnCZRBxoU",
        "outputId": "b7dde84f-f692-444f-bedf-aed04072e857"
      },
      "execution_count": 25,
      "outputs": [
        {
          "output_type": "stream",
          "name": "stdout",
          "text": [
            "Inserted news: It's been quiet this year in EUR/USD trading... too quiet : As we wrap up the first quarter of the year, Deutsche Bank has a look at the euro and notes that EUR/USD volatility and the range of the pair has been surprisingly narrow, particularly given the volatility in fixed income.\n",
            "One of : 0.5\n",
            "Inserted news: USDCAD approaches key 100 day moving average : The USDCAD has been down for four consecutive days and is approaching its 100 day moving average. A move below that level would increase the bearish bias. : 0\n",
            "Inserted news: US weekly EIA natural gas inventories -47B vs -54B expected : May Henry Hub natural gas fell below $2.00 yesterday but is up to $2.13 today as we get through the roll. This report won't help. : -0.4\n",
            "Inserted news: The GBPUSD moves away from it's 100 hour MA. More bullish bias for the pair. : The GBPUSD is pushing higher in trading today and in the process has seen the price move away from its 100 year moving average (blue line in the chart above). That moving average was sniffed in the early Asian session, but buyers : 0.5\n",
            "Inserted news: US stocks extend Wednesday's gains. Nasdaq leads the way. : The major US stock indices are off to a solid start to the day. The Dow and the S&P are on pace for the 2nd monthly increase in 3 months, while the Nasdaq and S&P are looking for the 3rd consecutive : 0.5\n",
            "Inserted news: USDJPY trades to a new high. Can the buyers get the pair above 133.00 now? : The US yields are moving to new highs (2 year up 6 bps to 4.14%), and that has given the USDJPY some underlying support as well. The pair is ticking to new highs at 132.91. : 0.5\n",
            "Inserted news: South African central bank raises repo rate by 50 bps to 7.75% : The South African Reserve Bank has hiked its main repo rate by 50 bps to 7.75%. USD/ZAR has dropped to a five-week low in the aftermath of the decision. : 0\n",
            "Inserted news: South Africa central bank sees 2023 CPI at 6.0% vs 5.4% prior : The original can be found here: https://www.forexlive.com/news/!/risk-to-the-inflation-outlook-seen-to-the-upside-20190424\n",
            "\n",
            "Risk to the : 0.2\n",
            "Inserted news: The EURUSD breaking higher : The German inflation was a bit higher than expectations and that has caused the EURUSD to move to the upside in early US trading. \n",
            "\n",
            "Looking at the 4-hour chart, the pair is extending above a swing area between 1.0866 : 0.5\n",
            "Inserted news: How to Become a Successful IB in Africa's Booming Forex and Crypto Markets : The Finance Magnates Africa Summit (FMAS:23) is coming soon, with the landmark event starting on May 8-10, 2023. Held at the luxurious Sandton Convention Centre in Johannesburg, South Africa, this is one event : It is classified as 0.5.\n",
            "Inserted news: US initial jobless claims 198K vs 196k estimate : US initial jobless claims for the week ending March 18 came in at 191k vs 197k estimate. Prior week 191K (unrevised). Initial jobless claims 198K vs 196K estimate. 4 week MA 198.25K : 0.2\n",
            "Inserted news: US final Q4 GDP +2.6% vs +2.7% expected : The text discusses the final reading of the US GDP for Q3 which was +3.2%. It also covers personal consumption, core PCE prices, and PCE prices. The article goes on to discuss GDP final sales and corporate profits after tax : 0.2\n",
            "Inserted news: OPEC unlikely to tweak oil output policy on Monday - report : OPEC+ is unlikely to change oil policy at Monday's meeting, according to five OPEC+ delegates cited by Reuters. This is no surprise as it's a monitoring meeting and members have repeatedly pledged to keep output unchanged through year end. : 0.0\n",
            "Inserted news: The CHF is the strongest and the USD is the weakest as the NA session begins : The CHF is the strongest and the USD is the weakest as the NA session begins. The major currencies are relatively scrunched together to start the trading day.\n",
            "\n",
            "The USDCHF has been trending to the downside after breaking below : 0.1\n",
            "Inserted news: Germany March preliminary CPI +7.4% vs +7.3% y/y expected : The views expressed in this article are those of the author and do not necessarily reflect the official policy or position of www.forexlive.com or its editorial staff.\n",
            "\n",
            "Prior +8.7%, CPI +0.8% vs + : 0.0\n",
            "Inserted news: ForexLive European FX news wrap: Inflation hope or false dawn? : Today's focus was on inflation numbers from German states and Spain. The early reports led to a fall in bond yields, as headline annual inflation came in softer than February and in the case of Spain, it even came in well below estimates. : 0.4\n",
            "Inserted news: Dollar trails amid better risk mood so far today : European indices are keeping gains near 1% while S&P 500 futures are up 16 points, or 0.4%, and that is helping with the overall mood in markets so far. In turn, the dollar is the laggard but : 0.7\n",
            "Inserted news: Empire break-up: Alibaba and the six units : One of the most well-known Chinese companies, Alibaba, is about to become six well-known Chinese companies. The e-commerce giant announced that it is going to split into six independent units soon – and its stock celebrated this fact with 14 : It has a bullish tone and is overall positive about Alibaba. I would rate it a 0.8.\n",
            "Inserted news: Eurozone March final consumer confidence -19.2 vs -19.2 prelim : Economic confidence falls in October as industrial confidence wanes. Services confidence also falls, though not as sharply. Consumer confidence had been improving for the past five months, but that improvement has now halted. : -0.1\n",
            "Inserted news: Russell 2000 Technical Analysis : On the daily chart below, we can see that the market got stuck in a range as soon as it bounced from the 1731 support. The uncertainty is high. On one hand the market is more optimistic as the banking crisis is fading, : The original can be found here: https://www.forexlive.com/news/!/ technical-analysis-eurusd-stuck-in-a-range-as-it-approaches-the-top-20200\n",
            "Inserted news: Saxony March CPI +8.3% vs +9.2% y/y prior : The monthly reading reflects a 0.9% increase in price pressures though the drop in headline annual inflation fits with what we have seen from the other state readings earlier. This should set up the national reading later to come in somewhere between 7.2% : 0.2\n",
            "Inserted news: Bitcoin is trying to break through the ceiling : The stock market's upbeat mood brought the price of Bitcoin back to the upper limit of the March trading range. In the low-liquid market early in the morning, Bitcoin picked up a wave of stops moving from $28.5K to $29 : 0.1\n",
            "Inserted news: XTIUSD Technical Analysis : The original can be found at https://www.forexlive.com/technical-analysis/!/oil-daily-chart-sellers-pile-in-after-breakout-of-range-4-hour-chart : 0.1\n",
            "Inserted news: Is Gold Still a “Reliable” Safe-haven Asset? : filed for bankruptcy. </p><p class=\"MsoNormal\">Gold as a hedge against the European debt crisis</p><p class=\"MsoNormal\">The European debt crisis started unfolding in early 2010. This time gold experienced a more profound : filed for bankruptcy. </p><p class=\"MsoNormal\">The precious metal regained its bullish momentum on September 18, 2008, closing at $1,020 per ounce. Gold gained further traction as the Lehman Brothers’ bankruptcy spurred panic\n",
            "Inserted news: Bond yields nudge back a little higher as traders push and pull : At first glance, the inflation numbers in German states and Spain today might suggest that price pressures are cooling but I've mentioned countless times already that it comes with a very important caveat.\n",
            "\n",
            "The drop in headline annual inflation is largely to do with base : 0.5\n"
          ]
        },
        {
          "output_type": "error",
          "ename": "KeyboardInterrupt",
          "evalue": "ignored",
          "traceback": [
            "\u001b[0;31m---------------------------------------------------------------------------\u001b[0m",
            "\u001b[0;31mKeyboardInterrupt\u001b[0m                         Traceback (most recent call last)",
            "\u001b[0;32m<ipython-input-25-95e451f0c590>\u001b[0m in \u001b[0;36m<cell line: 5>\u001b[0;34m()\u001b[0m\n\u001b[1;32m      6\u001b[0m     \u001b[0murl\u001b[0m \u001b[0;34m=\u001b[0m \u001b[0;34m\"https://www.forexlive.com/feed\"\u001b[0m\u001b[0;34m\u001b[0m\u001b[0;34m\u001b[0m\u001b[0m\n\u001b[1;32m      7\u001b[0m     \u001b[0mconn\u001b[0m\u001b[0;34m,\u001b[0m \u001b[0mcursor\u001b[0m \u001b[0;34m=\u001b[0m \u001b[0mcreate_db\u001b[0m\u001b[0;34m(\u001b[0m\u001b[0;34m)\u001b[0m\u001b[0;34m\u001b[0m\u001b[0;34m\u001b[0m\u001b[0m\n\u001b[0;32m----> 8\u001b[0;31m     \u001b[0mmonitor_feed\u001b[0m\u001b[0;34m(\u001b[0m\u001b[0murl\u001b[0m\u001b[0;34m,\u001b[0m \u001b[0mconn\u001b[0m\u001b[0;34m,\u001b[0m \u001b[0mcursor\u001b[0m\u001b[0;34m)\u001b[0m\u001b[0;34m\u001b[0m\u001b[0;34m\u001b[0m\u001b[0m\n\u001b[0m",
            "\u001b[0;32m<ipython-input-24-63aa925103a5>\u001b[0m in \u001b[0;36mmonitor_feed\u001b[0;34m(url, conn, cursor, interval)\u001b[0m\n\u001b[1;32m     15\u001b[0m                 \u001b[0minsert_news\u001b[0m\u001b[0;34m(\u001b[0m\u001b[0mcursor\u001b[0m\u001b[0;34m,\u001b[0m \u001b[0mtitle\u001b[0m\u001b[0;34m,\u001b[0m \u001b[0msummary\u001b[0m\u001b[0;34m,\u001b[0m \u001b[0msentiment\u001b[0m\u001b[0;34m)\u001b[0m\u001b[0;34m\u001b[0m\u001b[0;34m\u001b[0m\u001b[0m\n\u001b[1;32m     16\u001b[0m                 \u001b[0mprint\u001b[0m\u001b[0;34m(\u001b[0m\u001b[0;34mf\"Inserted news: {title} : {summary} : {sentiment}\"\u001b[0m\u001b[0;34m)\u001b[0m\u001b[0;34m\u001b[0m\u001b[0;34m\u001b[0m\u001b[0m\n\u001b[0;32m---> 17\u001b[0;31m         \u001b[0mtime\u001b[0m\u001b[0;34m.\u001b[0m\u001b[0msleep\u001b[0m\u001b[0;34m(\u001b[0m\u001b[0minterval\u001b[0m\u001b[0;34m)\u001b[0m\u001b[0;34m\u001b[0m\u001b[0;34m\u001b[0m\u001b[0m\n\u001b[0m",
            "\u001b[0;31mKeyboardInterrupt\u001b[0m: "
          ]
        }
      ]
    }
  ]
}
